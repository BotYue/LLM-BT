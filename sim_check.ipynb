{
 "cells": [
  {
   "cell_type": "markdown",
   "metadata": {},
   "source": [
    "### The enviroment is python 3.7.9 and tensorflow 1.15.0\n",
    "### This is an exemplary codepiece used to check similarity between the given verbs and a pre-set verb list. given verbs: install, lift, insert, connect; a pre-set verb list: {pick,drop,push,pull,rotate,move,place}. The similarity threshold is set as 0.5. The language model is the [Universal Sentence Encoder](https://research.google/pubs/universal-sentence-encoder/)."
   ]
  },
  {
   "cell_type": "code",
   "execution_count": 30,
   "metadata": {},
   "outputs": [
    {
     "name": "stdout",
     "output_type": "stream",
     "text": [
      "INFO:tensorflow:Saver not created because there are no variables in the graph to restore\n"
     ]
    },
    {
     "name": "stderr",
     "output_type": "stream",
     "text": [
      "INFO:tensorflow:Saver not created because there are no variables in the graph to restore\n"
     ]
    },
    {
     "name": "stdout",
     "output_type": "stream",
     "text": [
      "[[0.9999998  0.5076421  0.42777082 0.4938481  0.38150734 0.4079501\n",
      "  0.55846685 0.30573624 0.3291198  0.48501801 0.41655177]\n",
      " [0.5076421  1.0000002  0.6071931  0.75766104 0.54871875 0.48549142\n",
      "  0.57336223 0.35810494 0.49814755 0.526453   0.4465851 ]\n",
      " [0.42777082 0.6071931  1.         0.74845445 0.56600696 0.49913624\n",
      "  0.61150527 0.42621633 0.61261296 0.5208869  0.46939155]\n",
      " [0.4938481  0.75766104 0.74845445 1.0000002  0.61913145 0.53803843\n",
      "  0.5877872  0.44642517 0.59311306 0.62333107 0.4763012 ]\n",
      " [0.38150734 0.54871875 0.56600696 0.61913145 0.9999999  0.4688564\n",
      "  0.5640711  0.45703387 0.48334002 0.51680946 0.4902436 ]\n",
      " [0.4079501  0.48549142 0.49913624 0.53803843 0.4688564  1.0000002\n",
      "  0.59937215 0.42760313 0.40505844 0.32241645 0.43943858]\n",
      " [0.55846685 0.57336223 0.61150527 0.5877872  0.5640711  0.59937215\n",
      "  0.9999999  0.36937994 0.5320069  0.5278185  0.5833044 ]\n",
      " [0.30573624 0.35810494 0.42621633 0.44642517 0.45703387 0.42760313\n",
      "  0.36937994 1.         0.37330115 0.4344703  0.5354319 ]\n",
      " [0.3291198  0.49814755 0.61261296 0.59311306 0.48334002 0.40505844\n",
      "  0.5320069  0.37330115 0.9999998  0.41812176 0.44601148]\n",
      " [0.48501801 0.526453   0.5208869  0.62333107 0.51680946 0.32241645\n",
      "  0.5278185  0.4344703  0.41812176 1.         0.43775165]\n",
      " [0.41655177 0.4465851  0.46939155 0.4763012  0.4902436  0.43943858\n",
      "  0.5833044  0.5354319  0.44601148 0.43775165 1.0000001 ]]\n"
     ]
    },
    {
     "data": {
      "image/png": "[encoded data removed]",
      "text/plain": [
       "<Figure size 432x288 with 2 Axes>"
      ]
     },
     "metadata": {},
     "output_type": "display_data"
    }
   ],
   "source": [
    "import tensorflow as tf\n",
    "import tensorflow_hub as hub\n",
    "import numpy as np\n",
    "import seaborn as sns\n",
    "from sklearn.metrics.pairwise import cosine_similarity\n",
    "from matplotlib.colors import BoundaryNorm, ListedColormap\n",
    "module_url = \"https://tfhub.dev/google/universal-sentence-encoder/2\"\n",
    "embed = hub.Module(module_url)\n",
    "\n",
    "def plot_similarity(labels, features):\n",
    "  sim_cos = cosine_similarity(features, features)\n",
    "  #some variational similarity calculations would also work\n",
    "  print(sim_cos)\n",
    "  sns.set(font_scale=1.2)\n",
    "  sim_colors = ['#F25022', '#7FBA00']\n",
    "  sim_cmap = ListedColormap(sim_colors)\n",
    "  bounds = [0, 0.50, 1]\n",
    "  sim_norm = BoundaryNorm(bounds, ncolors=len(sim_colors))\n",
    "  g = sns.heatmap(\n",
    "      sim_cos[7:,:7],\n",
    "      yticklabels=labels[7:],\n",
    "      xticklabels=labels[:7],\n",
    "      vmin=0,\n",
    "      vmax=1,\n",
    "      cmap=sim_cmap,\n",
    "      norm=sim_norm,\n",
    "      linewidths=1, \n",
    "      linecolor='white',\n",
    "      square=True)\n",
    "  g.set_xticklabels(labels[:7], rotation=90)\n",
    "  g.set_title(\"Semantic Similarity\")\n",
    "\n",
    "\n",
    "def run_and_plot(session_, input_tensor_, messages_, encoding_tensor):\n",
    "  message_embeddings_ = session_.run(\n",
    "      encoding_tensor, feed_dict={input_tensor_: messages_})\n",
    "  plot_similarity(messages_, message_embeddings_)\n",
    "messages = [\n",
    "    \"pick\",\n",
    "    \"drop\",\n",
    "    \"push\",\n",
    "    \"pull\",\n",
    "    \"rotate\",\n",
    "    \"move\",\n",
    "    \"place\",\n",
    "    \"install\",\n",
    "    \"lift\",\n",
    "    \"insert\",\n",
    "    \"connect\"\n",
    "\n",
    "]\n",
    "\n",
    "similarity_input_placeholder = tf.placeholder(tf.string, shape=(None))\n",
    "similarity_message_encodings = embed(similarity_input_placeholder)\n",
    "with tf.Session() as session:\n",
    "  session.run(tf.global_variables_initializer())\n",
    "  session.run(tf.tables_initializer())\n",
    "  run_and_plot(session, similarity_input_placeholder, messages,\n",
    "               similarity_message_encodings)"
   ]
  },
  {
   "cell_type": "markdown",
   "metadata": {},
   "source": [
    "### If one row is fully orange, then the corresponding verb does not satisfy the requirement and needs further decomposition. such as \"install\" here."
   ]
  },
  {
   "cell_type": "code",
   "execution_count": null,
   "metadata": {},
   "outputs": [],
   "source": []
  }
 ],
 "metadata": {
  "kernelspec": {
   "display_name": "Python 3",
   "language": "python",
   "name": "python3"
  },
  "language_info": {
   "codemirror_mode": {
    "name": "ipython",
    "version": 3
   },
   "file_extension": ".py",
   "mimetype": "text/x-python",
   "name": "python",
   "nbconvert_exporter": "python",
   "pygments_lexer": "ipython3",
   "version": "3.7.9"
  }
 },
 "nbformat": 4,
 "nbformat_minor": 4
}
