{
 "cells": [
  {
   "cell_type": "markdown",
   "metadata": {},
   "source": [
    "### The enviroment is python 3.7.9 and tensorflow 1.15.0\n",
    "### This is an exemplary codepiece used to check textual similarity between the given verbs and a pre-set verb list. given verbs: install, lift; a pre-set verb list: {pick,drop,push,pull,rotate,move,place}. The similarity threshold is set as 0.5. The language model is the [Universal Sentence Encoder](https://research.google/pubs/universal-sentence-encoder/)."
   ]
  },
  {
   "cell_type": "code",
   "execution_count": 3,
   "metadata": {},
   "outputs": [
    {
     "name": "stdout",
     "output_type": "stream",
     "text": [
      "INFO:tensorflow:Saver not created because there are no variables in the graph to restore\n"
     ]
    },
    {
     "name": "stderr",
     "output_type": "stream",
     "text": [
      "INFO:tensorflow:Saver not created because there are no variables in the graph to restore\n"
     ]
    },
    {
     "name": "stdout",
     "output_type": "stream",
     "text": [
      "[[0.9999998  0.507642   0.42777082 0.49384803 0.3815073  0.40795007\n",
      "  0.5584668  0.3057363  0.32911983]\n",
      " [0.507642   0.9999999  0.60719305 0.75766075 0.5487186  0.48549134\n",
      "  0.5733621  0.35810494 0.4981475 ]\n",
      " [0.42777082 0.60719305 1.         0.74845433 0.5660069  0.49913615\n",
      "  0.61150527 0.42621642 0.612613  ]\n",
      " [0.49384803 0.75766075 0.74845433 1.         0.6191313  0.5380384\n",
      "  0.58778703 0.44642526 0.593113  ]\n",
      " [0.3815073  0.5487186  0.5660069  0.6191313  0.99999976 0.46885633\n",
      "  0.56407094 0.45703393 0.48334   ]\n",
      " [0.40795007 0.48549134 0.49913615 0.5380384  0.46885633 1.\n",
      "  0.59937197 0.42760313 0.40505847]\n",
      " [0.5584668  0.5733621  0.61150527 0.58778703 0.56407094 0.59937197\n",
      "  1.         0.3693799  0.53200704]\n",
      " [0.3057363  0.35810494 0.42621642 0.44642526 0.45703393 0.42760313\n",
      "  0.3693799  1.0000004  0.37330127]\n",
      " [0.32911983 0.4981475  0.612613   0.593113   0.48334    0.40505847\n",
      "  0.53200704 0.37330127 1.        ]]\n"
     ]
    },
    {
     "data": {
      "image/png": "[encoded data removed]",
      "text/plain": [
       "<Figure size 432x288 with 2 Axes>"
      ]
     },
     "metadata": {},
     "output_type": "display_data"
    }
   ],
   "source": [
    "import tensorflow as tf\n",
    "import tensorflow_hub as hub\n",
    "import numpy as np\n",
    "import seaborn as sns\n",
    "from sklearn.metrics.pairwise import cosine_similarity\n",
    "from matplotlib.colors import BoundaryNorm, ListedColormap\n",
    "module_url = \"https://tfhub.dev/google/universal-sentence-encoder/2\"\n",
    "embed = hub.Module(module_url)\n",
    "\n",
    "def plot_similarity(labels, features, rotation):\n",
    "  corr = np.inner(features, features)\n",
    "  print(corr)\n",
    "  sns.set(font_scale=1.2)\n",
    "  my_colors = ['#F25022', '#7FBA00']\n",
    "  my_cmap = ListedColormap(my_colors)\n",
    "  bounds = [0, 0.50, 1]\n",
    "  my_norm = BoundaryNorm(bounds, ncolors=len(my_colors))\n",
    "  g = sns.heatmap(\n",
    "      corr,\n",
    "      xticklabels=labels,\n",
    "      yticklabels=labels,\n",
    "      vmin=0,\n",
    "      vmax=1,\n",
    "      cmap=my_cmap,\n",
    "      norm=my_norm,\n",
    "      linewidths=1, \n",
    "      linecolor='white')\n",
    "  g.set_xticklabels(labels, rotation=rotation)\n",
    "  g.set_title(\"Semantic Textual Similarity\")\n",
    "\n",
    "\n",
    "def run_and_plot(session_, input_tensor_, messages_, encoding_tensor):\n",
    "  message_embeddings_ = session_.run(\n",
    "      encoding_tensor, feed_dict={input_tensor_: messages_})\n",
    "  plot_similarity(messages_, message_embeddings_, 90)\n",
    "messages = [\n",
    "    \"pick\",\n",
    "    \"drop\",\n",
    "    \"push\",\n",
    "    \"pull\",\n",
    "    \"rotate\",\n",
    "    \"move\",\n",
    "    \"place\",\n",
    "    \"install\",\n",
    "    \"lift\"\n",
    "\n",
    "]\n",
    "\n",
    "similarity_input_placeholder = tf.placeholder(tf.string, shape=(None))\n",
    "similarity_message_encodings = embed(similarity_input_placeholder)\n",
    "with tf.Session() as session:\n",
    "  session.run(tf.global_variables_initializer())\n",
    "  session.run(tf.tables_initializer())\n",
    "  run_and_plot(session, similarity_input_placeholder, messages,\n",
    "               similarity_message_encodings)"
   ]
  }
 ],
 "metadata": {
  "kernelspec": {
   "display_name": "Python 3",
   "language": "python",
   "name": "python3"
  },
  "language_info": {
   "codemirror_mode": {
    "name": "ipython",
    "version": 3
   },
   "file_extension": ".py",
   "mimetype": "text/x-python",
   "name": "python",
   "nbconvert_exporter": "python",
   "pygments_lexer": "ipython3",
   "version": "3.7.9"
  }
 },
 "nbformat": 4,
 "nbformat_minor": 4
}
